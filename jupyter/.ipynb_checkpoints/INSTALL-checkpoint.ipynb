{
 "cells": [
  {
   "cell_type": "markdown",
   "metadata": {
    "collapsed": true
   },
   "source": [
    "# Configuration\n",
    "This suppose to be run only once. "
   ]
  },
  {
   "cell_type": "code",
   "execution_count": 3,
   "metadata": {
    "collapsed": false
   },
   "outputs": [
    {
     "name": "stdout",
     "output_type": "stream",
     "text": [
      "Wed Aug 17 20:11:03 CEST 2016 Creating directories...\r\n",
      "Wed Aug 17 20:11:03 CEST 2016 0 directories created!\r\n"
     ]
    }
   ],
   "source": [
    "#rmdir */\n",
    "echo `date` \"Creating directories...\"\n",
    "i=0\n",
    "while read line; do\n",
    "    user=`echo $line | cut -f1 -d\" \"`\n",
    "    if [ ! -d $user ]; then\n",
    "        i=$((i+1))\n",
    "        mkdir $user\n",
    "    fi\n",
    "    cp NGSchool_* $user\n",
    "done < ../participants.txt\n",
    "echo `date` \"$i directories created!\""
   ]
  },
  {
   "cell_type": "code",
   "execution_count": null,
   "metadata": {
    "collapsed": true
   },
   "outputs": [],
   "source": []
  }
 ],
 "metadata": {
  "kernelspec": {
   "display_name": "Bash",
   "language": "bash",
   "name": "bash"
  },
  "language_info": {
   "codemirror_mode": "shell",
   "file_extension": ".sh",
   "mimetype": "text/x-sh",
   "name": "bash"
  }
 },
 "nbformat": 4,
 "nbformat_minor": 1
}
