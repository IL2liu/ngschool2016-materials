{
 "cells": [
  {
   "cell_type": "markdown",
   "metadata": {},
   "source": [
    "# Installation\n",
    "You can find installation instructions here: https://bioinfoexpert.com/2016/06/24/running-jupyter-as-public-service/"
   ]
  },
  {
   "cell_type": "markdown",
   "metadata": {},
   "source": [
    "# Code of conduct\n",
    "Each user has its own folder. Please enter it and alter only content under your folder. DO NOT mess with folders of another users! \n",
    "\n",
    "# Configuration\n",
    "This suppose to be run only once. "
   ]
  },
  {
   "cell_type": "code",
   "execution_count": 12,
   "metadata": {
    "collapsed": false
   },
   "outputs": [
    {
     "name": "stdout",
     "output_type": "stream",
     "text": [
      "Tue Aug 16 17:17:26 CEST 2016 Creating directories...\r\n",
      "Tue Aug 16 17:17:27 CEST 2016 30 directories created!\r\n"
     ]
    }
   ],
   "source": [
    "#rmdir */\n",
    "echo `date` \"Creating directories...\"\n",
    "i=0\n",
    "while read line; do\n",
    "    user=`echo $line | cut -f1 -d\" \"`\n",
    "    if [ ! -d $user ]; then\n",
    "        i=$((i+1))\n",
    "        mkdir $user\n",
    "    fi\n",
    "done < ../participants.txt\n",
    "echo `date` \"$i directories created!\""
   ]
  },
  {
   "cell_type": "code",
   "execution_count": 9,
   "metadata": {
    "collapsed": false
   },
   "outputs": [
    {
     "name": "stdout",
     "output_type": "stream",
     "text": []
    }
   ],
   "source": []
  },
  {
   "cell_type": "code",
   "execution_count": null,
   "metadata": {
    "collapsed": true
   },
   "outputs": [],
   "source": []
  }
 ],
 "metadata": {
  "kernelspec": {
   "display_name": "Bash",
   "language": "bash",
   "name": "bash"
  },
  "language_info": {
   "codemirror_mode": "shell",
   "file_extension": ".sh",
   "mimetype": "text/x-sh",
   "name": "bash"
  }
 },
 "nbformat": 4,
 "nbformat_minor": 1
}
