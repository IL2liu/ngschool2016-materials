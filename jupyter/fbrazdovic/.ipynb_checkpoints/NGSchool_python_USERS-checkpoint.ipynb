{
 "cells": [
  {
   "cell_type": "markdown",
   "metadata": {},
   "source": [
    "Set the matplotlib magic to notebook enable inline plots."
   ]
  },
  {
   "cell_type": "code",
   "execution_count": null,
   "metadata": {
    "collapsed": false,
    "scrolled": true
   },
   "outputs": [],
   "source": [
    "%pylab inline"
   ]
  },
  {
   "cell_type": "markdown",
   "metadata": {},
   "source": [
    "### Calculate the Nonredundant Read Fraction (NRF)"
   ]
  },
  {
   "cell_type": "markdown",
   "metadata": {},
   "source": [
    "SAM format example:\n",
    "```\n",
    "SRR585264.8766235       0       1       4       15      35M     *       0       0       CTTAAACAATTATTCCCCCTGCAAACATTTTCAAT     GGGGGGGGGGGGGGGGGGGGGGFGGGGGGGGGGGG    XT:A:U   NM:i:1  X0:i:1  X1:i:6  XM:i:1  XO:i:0  XG:i:0  MD:Z:8T26\n",
    "```"
   ]
  },
  {
   "cell_type": "markdown",
   "metadata": {},
   "source": [
    "Import the required modules"
   ]
  },
  {
   "cell_type": "code",
   "execution_count": null,
   "metadata": {
    "collapsed": false
   },
   "outputs": [],
   "source": [
    "import subprocess\n",
    "import matplotlib.pyplot as plt\n",
    "import random\n",
    "import numpy as np"
   ]
  },
  {
   "cell_type": "markdown",
   "metadata": {},
   "source": [
    "Make figures prettier and biger"
   ]
  },
  {
   "cell_type": "code",
   "execution_count": 6,
   "metadata": {
    "collapsed": false
   },
   "outputs": [],
   "source": [
    "plt.style.use('ggplot')\n",
    "figsize(10,5)"
   ]
  },
  {
   "cell_type": "markdown",
   "metadata": {},
   "source": [
    "##### Parse the SAM file and extract the unique start coordinates."
   ]
  },
  {
   "cell_type": "markdown",
   "metadata": {},
   "source": [
    "First store the file name in the variable"
   ]
  },
  {
   "cell_type": "code",
   "execution_count": 7,
   "metadata": {
    "collapsed": true
   },
   "outputs": [],
   "source": [
    "file = \"/ngschool/chip_seq/bwa/input.sorted.bam\""
   ]
  },
  {
   "cell_type": "markdown",
   "metadata": {},
   "source": [
    "Next we read the file using samtools. From each read we need to store the flag, chromosome name and start coordinate."
   ]
  },
  {
   "cell_type": "code",
   "execution_count": 9,
   "metadata": {
    "collapsed": false
   },
   "outputs": [],
   "source": [
    "p = subprocess.Popen([\"samtools\", \"view\", \"-q10\", \"-F260\", file],\n",
    "                      stdout=subprocess.PIPE)\n",
    "coords = []\n",
    "for line in p.stdout:\n",
    "    flag, chrom, start = line.decode('utf-8').split()[1:4]\n",
    "    coords.append([ flag, chrom, start])"
   ]
  },
  {
   "cell_type": "code",
   "execution_count": 10,
   "metadata": {
    "collapsed": false
   },
   "outputs": [
    {
     "data": {
      "text/plain": [
       "[[u'16', u'20', u'194'],\n",
       " [u'16', u'20', u'211'],\n",
       " [u'16', u'20', u'479'],\n",
       " [u'16', u'20', u'567'],\n",
       " [u'16', u'20', u'607']]"
      ]
     },
     "execution_count": 10,
     "metadata": {},
     "output_type": "execute_result"
    }
   ],
   "source": [
    "coords[:5]"
   ]
  },
  {
   "cell_type": "code",
   "execution_count": 11,
   "metadata": {
    "collapsed": false
   },
   "outputs": [
    {
     "data": {
      "text/plain": [
       "[[u'0', u'21', u'45895113'],\n",
       " [u'16', u'21', u'45895237'],\n",
       " [u'16', u'21', u'45895362'],\n",
       " [u'0', u'21', u'45895373'],\n",
       " [u'0', u'21', u'45895571']]"
      ]
     },
     "execution_count": 11,
     "metadata": {},
     "output_type": "execute_result"
    }
   ],
   "source": [
    "coords[-5:]"
   ]
  },
  {
   "cell_type": "markdown",
   "metadata": {},
   "source": [
    "What is the total number of our unique reads?"
   ]
  },
  {
   "cell_type": "code",
   "execution_count": 12,
   "metadata": {
    "collapsed": false
   },
   "outputs": [
    {
     "data": {
      "text/plain": [
       "1457812"
      ]
     },
     "execution_count": 12,
     "metadata": {},
     "output_type": "execute_result"
    }
   ],
   "source": [
    "len(coords)"
   ]
  },
  {
   "cell_type": "markdown",
   "metadata": {},
   "source": [
    "In python we can randomly sample the coordinates to get 1M for NRF calculations"
   ]
  },
  {
   "cell_type": "code",
   "execution_count": 13,
   "metadata": {
    "collapsed": false
   },
   "outputs": [],
   "source": [
    "random.seed(1234)\n",
    "sample = random.sample(coords, 1000000)"
   ]
  },
  {
   "cell_type": "markdown",
   "metadata": {},
   "source": [
    "How many of those coordinates are **unique**? (We will use the *set* python object which only the unique items.)"
   ]
  },
  {
   "cell_type": "code",
   "execution_count": 14,
   "metadata": {
    "collapsed": false
   },
   "outputs": [
    {
     "data": {
      "text/plain": [
       "1000000"
      ]
     },
     "execution_count": 14,
     "metadata": {},
     "output_type": "execute_result"
    }
   ],
   "source": [
    "len(sample)"
   ]
  },
  {
   "cell_type": "code",
   "execution_count": 15,
   "metadata": {
    "collapsed": false
   },
   "outputs": [],
   "source": [
    "uniqueStarts = {'watson': set(), 'crick': set()}\n",
    "for coord in sample:\n",
    "    flag, ref, start = coord\n",
    "    if int(flag) & 16:\n",
    "        uniqueStarts['crick'].add((ref, start))\n",
    "    else:\n",
    "        uniqueStarts['watson'].add((ref, start))"
   ]
  },
  {
   "cell_type": "markdown",
   "metadata": {},
   "source": [
    "How many on the Watson strand?"
   ]
  },
  {
   "cell_type": "code",
   "execution_count": 16,
   "metadata": {
    "collapsed": false
   },
   "outputs": [
    {
     "data": {
      "text/plain": [
       "462567"
      ]
     },
     "execution_count": 16,
     "metadata": {},
     "output_type": "execute_result"
    }
   ],
   "source": [
    "len(uniqueStarts['watson'])"
   ]
  },
  {
   "cell_type": "markdown",
   "metadata": {},
   "source": [
    "And on the Crick?"
   ]
  },
  {
   "cell_type": "code",
   "execution_count": 17,
   "metadata": {
    "collapsed": false
   },
   "outputs": [
    {
     "data": {
      "text/plain": [
       "451649"
      ]
     },
     "execution_count": 17,
     "metadata": {},
     "output_type": "execute_result"
    }
   ],
   "source": [
    "len(uniqueStarts['crick'])"
   ]
  },
  {
   "cell_type": "markdown",
   "metadata": {},
   "source": [
    "Calculate the **NRF**"
   ]
  },
  {
   "cell_type": "code",
   "execution_count": 19,
   "metadata": {
    "collapsed": false
   },
   "outputs": [
    {
     "ename": "SyntaxError",
     "evalue": "invalid syntax (<ipython-input-19-737bff256c79>, line 1)",
     "output_type": "error",
     "traceback": [
      "\u001b[0;36m  File \u001b[0;32m\"<ipython-input-19-737bff256c79>\"\u001b[0;36m, line \u001b[0;32m1\u001b[0m\n\u001b[0;31m    NRF_input = (len(uniqueStarts['watson']) + len(uniqueStarts['crick']))*1.0 /\u001b[0m\n\u001b[0m                                                                                ^\u001b[0m\n\u001b[0;31mSyntaxError\u001b[0m\u001b[0;31m:\u001b[0m invalid syntax\n"
     ]
    }
   ],
   "source": [
    "NRF_input = (len(uniqueStarts['watson']) + len(uniqueStarts['crick']))*1.0 /\n",
    "print(NRF_input)"
   ]
  },
  {
   "cell_type": "markdown",
   "metadata": {},
   "source": [
    "Lets create a function from what we did above and apply it to all of our files!\n",
    "\n",
    "To use our function on the real sequencing datasets (not only on a small subset) we need to optimize our method a bit- we will use python module called numpy."
   ]
  },
  {
   "cell_type": "code",
   "execution_count": 20,
   "metadata": {
    "collapsed": false
   },
   "outputs": [],
   "source": [
    "def calculateNRF(filePath, pickSample=True, sampleSize=10000000, seed=1234):\n",
    "    p = subprocess.Popen(['samtools', 'view', '-q10', '-F260', filePath],\n",
    "                          stdout=subprocess.PIPE)\n",
    "    coordType = np.dtype({'names': ['flag', 'ref', 'start'],\n",
    "                          'formats': ['uint16', 'U10', 'uint32']})\n",
    "    coordArray = np.empty(10000000, dtype=coordType)\n",
    "    i = 0\n",
    "    for line in p.stdout:\n",
    "        if i >= len(coordArray):\n",
    "            coordArray = np.append(coordArray, np.empty(1000000, dtype=coordType), axis=0)\n",
    "        fg, rf, st = line.decode('utf-8').split()[1:4]\n",
    "        coordArray[i] = np.array((fg, rf, st), dtype=coordType)\n",
    "        i += 1\n",
    "    coordArray = coordArray[:i]\n",
    "    sample = coordArray\n",
    "    if pickSample and len(coordArray) > sampleSize:\n",
    "        np.random.seed(seed)\n",
    "        sample = np.random.choice(coordArray, sampleSize, replace=False)\n",
    "    uniqueStarts = {'watson': set(), 'crick': set()}\n",
    "    for read in sample:\n",
    "        flag, ref, start = read\n",
    "        if flag & 16:\n",
    "            uniqueStarts['crick'].add((ref, start))\n",
    "        else:\n",
    "            uniqueStarts['watson'].add((ref, start))\n",
    "    NRF = (len(uniqueStarts['watson']) + len(uniqueStarts['crick']))*1.0/len(sample)\n",
    "    return NRF"
   ]
  },
  {
   "cell_type": "markdown",
   "metadata": {},
   "source": [
    "Calculate the NRF for the chip-seq sample"
   ]
  },
  {
   "cell_type": "code",
   "execution_count": null,
   "metadata": {
    "collapsed": false
   },
   "outputs": [],
   "source": [
    "NRF_chip = calculateNRF(\"\", sampleSize=1000000)\n",
    "print(NRF_chip)"
   ]
  },
  {
   "cell_type": "markdown",
   "metadata": {},
   "source": [
    "Plot the NRF!"
   ]
  },
  {
   "cell_type": "code",
   "execution_count": null,
   "metadata": {
    "collapsed": true
   },
   "outputs": [],
   "source": []
  },
  {
   "cell_type": "code",
   "execution_count": null,
   "metadata": {
    "collapsed": false
   },
   "outputs": [],
   "source": [
    "plt.bar([0,2],[NRF_input, NRF_chip], width=1)\n",
    "plt.xlim([-0.5,3.5]), plt.xticks([0.5, 2.5], ['Input', 'ChIP'])\n",
    "plt.xlabel('Sample')\n",
    "plt.ylabel('NRF')\n",
    "plt.ylim([0, 1.25]), plt.yticks(np.arange(0, 1.2, 0.2))\n",
    "plt.plot((-0.5,3.5), (0.8,0.8), 'red', linestyle='dashed')\n",
    "plt.show()"
   ]
  },
  {
   "cell_type": "markdown",
   "metadata": {},
   "source": [
    "### Calculate the Signal Extraction Scaling"
   ]
  },
  {
   "cell_type": "markdown",
   "metadata": {},
   "source": [
    "Load the results from the coverage calculations. Lets take the input sample first."
   ]
  },
  {
   "cell_type": "markdown",
   "metadata": {},
   "source": [
    "```\n",
    "20      0       1000    6\n",
    "20      1000    2000    15\n",
    "20      2000    3000    13\n",
    "...\n",
    "```"
   ]
  },
  {
   "cell_type": "code",
   "execution_count": null,
   "metadata": {
    "collapsed": false
   },
   "outputs": [],
   "source": [
    "countList = []\n",
    "with open('/ngschool/chip_seq/bedtools/input_coverage.bed', 'r') as covFile:\n",
    "    for line in covFile:\n",
    "        countList.append(int(line.strip('\\n').split('\\t')[3]))"
   ]
  },
  {
   "cell_type": "code",
   "execution_count": null,
   "metadata": {
    "collapsed": false
   },
   "outputs": [
    {
     "ename": "NameError",
     "evalue": "name 'countlist' is not defined",
     "output_type": "error",
     "traceback": [
      "\u001b[0;31m---------------------------------------------------------------------------\u001b[0m",
      "\u001b[0;31mNameError\u001b[0m                                 Traceback (most recent call last)",
      "\u001b[0;32m<ipython-input-22-fdbf32c06552>\u001b[0m in \u001b[0;36m<module>\u001b[0;34m()\u001b[0m\n\u001b[0;32m----> 1\u001b[0;31m \u001b[0mcountlist\u001b[0m\u001b[0;34m[\u001b[0m\u001b[0;34m:\u001b[0m\u001b[0;36m5\u001b[0m\u001b[0;34m]\u001b[0m\u001b[0;34m\u001b[0m\u001b[0m\n\u001b[0m",
      "\u001b[0;31mNameError\u001b[0m: name 'countlist' is not defined"
     ]
    }
   ],
   "source": [
    "countlist[:5]"
   ]
  },
  {
   "cell_type": "code",
   "execution_count": null,
   "metadata": {
    "collapsed": false
   },
   "outputs": [],
   "source": [
    "plot(range(101267), countlist)"
   ]
  },
  {
   "cell_type": "markdown",
   "metadata": {},
   "source": [
    "Lets see where do our reads align to the genome. Plot the distribution of tags along the genome."
   ]
  },
  {
   "cell_type": "code",
   "execution_count": null,
   "metadata": {
    "collapsed": false
   },
   "outputs": [],
   "source": [
    "plt.plot(range(len(countList)), countList)\n",
    "plt.xlabel('Bin number')\n",
    "plt.ylabel('Bin coverage')\n",
    "plt.xlim([0, len(countList)])\n",
    "plt.show()"
   ]
  },
  {
   "cell_type": "markdown",
   "metadata": {},
   "source": [
    "Now sort the list- order the windows based on the tag count"
   ]
  },
  {
   "cell_type": "code",
   "execution_count": null,
   "metadata": {
    "collapsed": false
   },
   "outputs": [],
   "source": [
    "countList.sort()"
   ]
  },
  {
   "cell_type": "markdown",
   "metadata": {},
   "source": [
    "What do you suppose is in the beginning of our list?"
   ]
  },
  {
   "cell_type": "code",
   "execution_count": null,
   "metadata": {
    "collapsed": false
   },
   "outputs": [],
   "source": []
  },
  {
   "cell_type": "markdown",
   "metadata": {},
   "source": [
    "Sum all the aligned tags"
   ]
  },
  {
   "cell_type": "code",
   "execution_count": null,
   "metadata": {
    "collapsed": false
   },
   "outputs": [],
   "source": [
    "countSum = sum()\n",
    "countSum"
   ]
  },
  {
   "cell_type": "markdown",
   "metadata": {},
   "source": [
    "Calculate the summaric fraction of tags along the ordered windows."
   ]
  },
  {
   "cell_type": "code",
   "execution_count": null,
   "metadata": {
    "collapsed": true
   },
   "outputs": [],
   "source": [
    "countFraction = []\n",
    "for i, count in enumerate(countList):\n",
    "    if i == 0:\n",
    "        countFraction.append(count*1.0 / countSum)\n",
    "    else:\n",
    "        countFraction.append((count*1.0 / countSum) + countFraction[i-1])"
   ]
  },
  {
   "cell_type": "markdown",
   "metadata": {},
   "source": [
    "Look at the last five items of the list:"
   ]
  },
  {
   "cell_type": "code",
   "execution_count": null,
   "metadata": {
    "collapsed": false
   },
   "outputs": [],
   "source": []
  },
  {
   "cell_type": "markdown",
   "metadata": {},
   "source": [
    "Calculate the number of windows."
   ]
  },
  {
   "cell_type": "code",
   "execution_count": null,
   "metadata": {
    "collapsed": false
   },
   "outputs": [],
   "source": [
    "winNumber = \n",
    "winNumber"
   ]
  },
  {
   "cell_type": "markdown",
   "metadata": {},
   "source": [
    "Calculate what fraction of a whole is the position of each window."
   ]
  },
  {
   "cell_type": "code",
   "execution_count": null,
   "metadata": {
    "collapsed": true
   },
   "outputs": [],
   "source": [
    "winFraction = []\n",
    "for i in range(winNumber):\n",
    "    winFraction.append(i*1.0 / winNumber)"
   ]
  },
  {
   "cell_type": "markdown",
   "metadata": {},
   "source": [
    "Look at the last five items of our new list:"
   ]
  },
  {
   "cell_type": "code",
   "execution_count": null,
   "metadata": {
    "collapsed": false
   },
   "outputs": [],
   "source": []
  },
  {
   "cell_type": "markdown",
   "metadata": {},
   "source": [
    "Now prepare the function!"
   ]
  },
  {
   "cell_type": "code",
   "execution_count": null,
   "metadata": {
    "collapsed": false
   },
   "outputs": [],
   "source": [
    "def calculateSES(filePath):\n",
    "    countList = []\n",
    "    with open(filePath, 'r') as covFile:\n",
    "        for line in covFile:\n",
    "            countList.append(int(line.strip('\\n').split('\\t')[3]))\n",
    "    plt.plot(range(len(countList)), countList)\n",
    "    plt.xlabel('Bin number')\n",
    "    plt.ylabel('Bin coverage')\n",
    "    plt.xlim([0, len(countList)])\n",
    "    plt.show()\n",
    "    countList.sort()\n",
    "    countSum = sum(countList)\n",
    "    countFraction = []\n",
    "    for i, count in enumerate(countList):\n",
    "        if i == 0:\n",
    "            countFraction.append(count*1.0 / countSum)\n",
    "        else:\n",
    "            countFraction.append((count*1.0 / countSum) + countFraction[i-1])\n",
    "    winNumber = len(countFraction)\n",
    "    winFraction = []\n",
    "    for i in range(winNumber):\n",
    "        winFraction.append(i*1.0 / winNumber)\n",
    "    return [winFraction, countFraction]"
   ]
  },
  {
   "cell_type": "markdown",
   "metadata": {},
   "source": [
    "Use our function to calculate the signal extraction scaling for the Sox2 ChIP sample:"
   ]
  },
  {
   "cell_type": "code",
   "execution_count": null,
   "metadata": {
    "collapsed": false
   },
   "outputs": [],
   "source": [
    "chipSes = calculateSES(\"\")"
   ]
  },
  {
   "cell_type": "markdown",
   "metadata": {},
   "source": [
    "Now we can plot the calculated fractions for both the input and ChIP sample:"
   ]
  },
  {
   "cell_type": "code",
   "execution_count": null,
   "metadata": {
    "collapsed": true
   },
   "outputs": [],
   "source": []
  },
  {
   "cell_type": "code",
   "execution_count": null,
   "metadata": {
    "collapsed": false
   },
   "outputs": [],
   "source": [
    "plt.plot(winFraction, countFraction, label='input')\n",
    "plt.plot(chipSes[0], chipSes[1], label='Sox2 ChIP')\n",
    "plt.ylim([0,1])\n",
    "plt.xlabel('Ordered window franction')\n",
    "plt.ylabel('Genome coverage fraction')\n",
    "plt.legend(loc='best')\n",
    "plt.show()"
   ]
  }
 ],
 "metadata": {
  "kernelspec": {
   "display_name": "Python 2",
   "language": "python",
   "name": "python2"
  },
  "language_info": {
   "codemirror_mode": {
    "name": "ipython",
    "version": 2
   },
   "file_extension": ".py",
   "mimetype": "text/x-python",
   "name": "python",
   "nbconvert_exporter": "python",
   "pygments_lexer": "ipython2",
   "version": "2.7.12"
  }
 },
 "nbformat": 4,
 "nbformat_minor": 0
}
